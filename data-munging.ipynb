{
 "cells": [
  {
   "cell_type": "markdown",
   "metadata": {},
   "source": [
    "## Olympians by Wikipedia Pageviews"
   ]
  },
  {
   "cell_type": "markdown",
   "metadata": {},
   "source": [
    "### Get a list of competing Olympians"
   ]
  },
  {
   "cell_type": "markdown",
   "metadata": {},
   "source": [
    "Getting a list of people competing in the Olympics turns out to actually be a pretty difficult thing to do. Olympians are named by any of 240 so-called National Olympic Committees, each of which publishes a list of its athletes&mdash;maybe.\n",
    "\n",
    "The closest thing to a full list is the apparently maniacally-upkept [sports-reference.com](http://www.sports-reference.com/olympics/summer/2012/) list, which tries to include as close as possible to every Olympian ever. However, they do not have data on the 2016 Olympics available yet.\n",
    "\n",
    "It is possible to search Wikidata for [participants at the 2016 Summer Games](https://query.wikidata.org/#SELECT%20%3Fitem%20%3FitemLabel%0AWHERE%0A%7B%0A%09%3Fitem%20wdt%3AP1344%20wd%3AQ8613%20.%20%0A%09SERVICE%20wikibase%3Alabel%20%7B%20bd%3AserviceParam%20wikibase%3Alanguage%20%22en%22%20%7D%0A%7D%0A), but the result is hilariously short on results.\n",
    "\n",
    "Individual Wikipedias contain categories for such things, another approach would be to try to use these. This turns out to be very reasonable: there are ~11,000 Olympians, and [Category:Competitors_at_the_2016_Summer_Olympics](https://en.wikipedia.org/wiki/Category:Competitors_at_the_2016_Summer_Olympics) on the English Wikipedia covers, according to a hand count, at least 10,000 of them. It's quite possible it contains all of them.\n",
    "\n",
    "Interestingly, for those atheletes that were lacking an article at the beginning of the games, this seems to be due to the work of [one particularly indefatigable user](https://en.wikipedia.org/w/index.php?title=Special:Contributions&offset=20170101000000&limit=100&contribs=user&target=Yellow+Dingo&namespace=&tagfilter=&newOnly=1).\n",
    "\n",
    "Thus getting a list which is *almost* complete (I doubt that it is totally complete) is a function of reading in this category."
   ]
  },
  {
   "cell_type": "markdown",
   "metadata": {},
   "source": [
    "We use the `mwapi` package for this task."
   ]
  },
  {
   "cell_type": "code",
   "execution_count": 1,
   "metadata": {
    "collapsed": false
   },
   "outputs": [
    {
     "name": "stdout",
     "output_type": "stream",
     "text": [
      "{'batchcomplete': '', 'query': {'userinfo': {'id': 0, 'anon': '', 'name': '108.41.39.170'}}}\n"
     ]
    }
   ],
   "source": [
    "import mwapi\n",
    "session = mwapi.Session('https://en.wikipedia.org', user_agent='olympian-list-fetch')\n",
    "print(session.get(action='query', meta='userinfo'))"
   ]
  },
  {
   "cell_type": "markdown",
   "metadata": {},
   "source": [
    "The category consists of a stack of subcategories, which we read in first."
   ]
  },
  {
   "cell_type": "code",
   "execution_count": 2,
   "metadata": {
    "collapsed": false
   },
   "outputs": [],
   "source": [
    "olympian_wp_categories = session.get(action='query', \n",
    "            list='categorymembers', \n",
    "            cmtitle='Category:Competitors_at_the_2016_Summer_Olympics',\n",
    "            cmlimit=500,\n",
    "            cmtype='subcat')\n",
    "olympian_wp_categories = [cat['title'] for cat in olympian_wp_categories['query']['categorymembers'] if cat['title'] != 'Category:LGBT sportspeople at the 2016 Summer Olympics']  # avoid double-counting"
   ]
  },
  {
   "cell_type": "markdown",
   "metadata": {},
   "source": [
    "Then we read in more data from each of the subcategories. The categories might themselves have subcategories, which we have to scope out as well."
   ]
  },
  {
   "cell_type": "markdown",
   "metadata": {},
   "source": [
    "Build a list of all cats and subcats."
   ]
  },
  {
   "cell_type": "code",
   "execution_count": 3,
   "metadata": {
    "collapsed": false
   },
   "outputs": [],
   "source": [
    "# Build a list of all cats and subcats.\n",
    "rio_cat_list = olympian_wp_categories\n",
    "for cat in rio_cat_list:\n",
    "    subcats = session.get(action='query',\n",
    "                          list='categorymembers', \n",
    "                          cmtitle=cat,\n",
    "                          cmlimit=500,\n",
    "                          cmtype='subcat')\n",
    "    # Add the subcats to the list, for further exploration.\n",
    "    rio_cat_list += [cat['title'] for cat in subcats['query']['categorymembers']]"
   ]
  },
  {
   "cell_type": "markdown",
   "metadata": {},
   "source": [
    "Fetch all of the articles in all of the categories and combine them."
   ]
  },
  {
   "cell_type": "code",
   "execution_count": 4,
   "metadata": {
    "collapsed": false
   },
   "outputs": [
    {
     "name": "stderr",
     "output_type": "stream",
     "text": [
      "100%|██████████████████████████████████████████| 40/40 [00:06<00:00,  6.66it/s]\n"
     ]
    }
   ],
   "source": [
    " from tqdm import tqdm\n",
    "\n",
    "athletes_en = []\n",
    "for cat in tqdm(rio_cat_list):\n",
    "    subl = []\n",
    "    cmcontinue = \"\"\n",
    "    while True:\n",
    "        q = session.get(action='query', \n",
    "            list='categorymembers', \n",
    "            cmtitle=cat,\n",
    "            cmlimit=500,\n",
    "            cmtype='page',\n",
    "            cmcontinue=cmcontinue)\n",
    "        subl += [d['title'] for d in q['query']['categorymembers']]\n",
    "        athletes_en += subl\n",
    "        if 'continue' in q.keys():\n",
    "            cmcontinue = q['continue']['cmcontinue']\n",
    "            continue\n",
    "        else:\n",
    "            athletes_en += subl\n",
    "            break\n",
    "\n",
    "athletes_en = set(athletes_en)"
   ]
  },
  {
   "cell_type": "code",
   "execution_count": 5,
   "metadata": {
    "collapsed": false
   },
   "outputs": [
    {
     "data": {
      "text/plain": [
       "9481"
      ]
     },
     "execution_count": 5,
     "metadata": {},
     "output_type": "execute_result"
    }
   ],
   "source": [
    "len(athletes_en)"
   ]
  },
  {
   "cell_type": "code",
   "execution_count": 7,
   "metadata": {
    "collapsed": false
   },
   "outputs": [
    {
     "data": {
      "text/plain": [
       "0.861909090909091"
      ]
     },
     "execution_count": 7,
     "metadata": {},
     "output_type": "execute_result"
    }
   ],
   "source": [
    "9481/11000"
   ]
  },
  {
   "cell_type": "markdown",
   "metadata": {},
   "source": [
    "About 85% of athletes are represented."
   ]
  },
  {
   "cell_type": "markdown",
   "metadata": {},
   "source": [
    "Get the associated Wikidata entities.\n",
    "\n",
    "I first I tried to use [the following seemingly undescribed capacity](https://en.wikipedia.org/wiki/Special:ApiSandbox#action=query&format=json&prop=iwlinks&list=&titles=Michael+Phelps). As you can see below, this actually only works in a very small minority of cases. The reason why it does so at all, then, is unknown to me."
   ]
  },
  {
   "cell_type": "code",
   "execution_count": 77,
   "metadata": {
    "collapsed": false
   },
   "outputs": [
    {
     "name": "stdout",
     "output_type": "stream",
     "text": [
      "{'query': {'pages': {'19084502': {'iwlinks': [{'prefix': 'c', '*': 'Category:Michael_Phelps'}, {'prefix': 'd', '*': 'Q39562'}, {'prefix': 'n', '*': 'Special:Search/Michael_Phelps'}, {'prefix': 'q', '*': 'Special:Search/Michael_Phelps'}], 'pageid': 19084502, 'ns': 0, 'title': 'Michael Phelps'}}}, 'batchcomplete': ''}\n"
     ]
    }
   ],
   "source": [
    "# wd_items = []\n",
    "# for athlete in athletes_en:\n",
    "#     q = session.get(action='query', \n",
    "#         format='json', \n",
    "#         prop='iwlinks',\n",
    "#         titles='Michael Phelps')\n",
    "#     print(q)\n",
    "#     break"
   ]
  },
  {
   "cell_type": "code",
   "execution_count": 84,
   "metadata": {
    "collapsed": false
   },
   "outputs": [
    {
     "name": "stderr",
     "output_type": "stream",
     "text": [
      "100%|██████████████████████████████████████| 9452/9452 [18:07<00:00,  8.69it/s]\n"
     ]
    }
   ],
   "source": [
    "# wd_items = []\n",
    "# for athlete in tqdm(athletes_en):\n",
    "#     q = session.get(action='query', \n",
    "#         format='json', \n",
    "#         prop='iwlinks',\n",
    "#         titles=athlete)\n",
    "#     q = q['query']['pages']\n",
    "#     k = list(q.keys())[0]\n",
    "#     q = q[k]\n",
    "#     try:\n",
    "#         q = q['iwlinks']\n",
    "#     except:\n",
    "#         continue\n",
    "#     wd = [d['*'] for d in q if d['prefix'] == 'd']\n",
    "#     wd_items += wd"
   ]
  },
  {
   "cell_type": "code",
   "execution_count": 85,
   "metadata": {
    "collapsed": false
   },
   "outputs": [
    {
     "data": {
      "text/plain": [
       "['Q16231988',\n",
       " 'Q10843402',\n",
       " 'Q21531041',\n",
       " 'Q24816347',\n",
       " 'Q5580695',\n",
       " 'Q39562',\n",
       " 'Q1338865',\n",
       " 'Q11459',\n",
       " 'Q1616699']"
      ]
     },
     "execution_count": 85,
     "metadata": {},
     "output_type": "execute_result"
    }
   ],
   "source": [
    "wd_items"
   ]
  },
  {
   "cell_type": "markdown",
   "metadata": {},
   "source": [
    "Ok, this clearly (and surprisingly) doesn't work."
   ]
  },
  {
   "cell_type": "markdown",
   "metadata": {},
   "source": [
    "After reading documentation on interlanguage link management via Wikidata some more, I discovered that I can hackishly get what I want by examining the redirects I get bounced to when I query `Special:ItemByTitle` on Wikidata ([like so](https://www.wikidata.org/wiki/Special:ItemByTitle?site=enwiki&page=Michael_Phelps)).\n",
    "\n",
    "The following solution is based on [this StackOverflow answer](http://stackoverflow.com/questions/20475552/python-requests-library-redirect-new-url).\n",
    "\n",
    "Unfortunately it is really slow, but meh."
   ]
  },
  {
   "cell_type": "code",
   "execution_count": 8,
   "metadata": {
    "collapsed": false
   },
   "outputs": [
    {
     "name": "stderr",
     "output_type": "stream",
     "text": [
      "100%|██████████████████████████████████████| 9481/9481 [38:07<00:00,  4.66it/s]\n"
     ]
    }
   ],
   "source": [
    "import requests\n",
    "\n",
    "wd_urls = []\n",
    "for en_title in tqdm(athletes_en):\n",
    "    r = requests.get('https://www.wikidata.org/wiki/Special:ItemByTitle?site=enwiki&page={0}'.format(en_title))\n",
    "    wd_urls.append(r.url)"
   ]
  },
  {
   "cell_type": "markdown",
   "metadata": {},
   "source": [
    "In the following, \"S\" means that no page was found, while \"Q\" means that one was."
   ]
  },
  {
   "cell_type": "code",
   "execution_count": 9,
   "metadata": {
    "collapsed": false
   },
   "outputs": [
    {
     "data": {
      "text/plain": [
       "https://www.wikidata.org/wiki/Q    9440\n",
       "https://www.wikidata.org/wiki/S      41\n",
       "dtype: int64"
      ]
     },
     "execution_count": 9,
     "metadata": {},
     "output_type": "execute_result"
    }
   ],
   "source": [
    "import pandas as pd\n",
    "\n",
    "pd.Series([u[:31] for u in wd_urls]).value_counts()"
   ]
  },
  {
   "cell_type": "markdown",
   "metadata": {},
   "source": [
    "We string match to recover endpoints."
   ]
  },
  {
   "cell_type": "code",
   "execution_count": 10,
   "metadata": {
    "collapsed": false
   },
   "outputs": [],
   "source": [
    "wd_endpoints = [url.split('/')[-1] if url[30] != 'S' else None for url in wd_urls]"
   ]
  },
  {
   "cell_type": "code",
   "execution_count": 11,
   "metadata": {
    "collapsed": false
   },
   "outputs": [
    {
     "data": {
      "text/plain": [
       "['Q25482912', 'Q26254395', 'Q17096778', 'Q60968', 'Q5108391']"
      ]
     },
     "execution_count": 11,
     "metadata": {},
     "output_type": "execute_result"
    }
   ],
   "source": [
    "wd_endpoints[:5]"
   ]
  },
  {
   "cell_type": "markdown",
   "metadata": {},
   "source": [
    "Package this into a DataFrame."
   ]
  },
  {
   "cell_type": "code",
   "execution_count": 12,
   "metadata": {
    "collapsed": false,
    "scrolled": true
   },
   "outputs": [],
   "source": [
    "rio = pd.DataFrame(data={'enwiki_article': list(athletes_en), 'identifier': wd_endpoints})"
   ]
  },
  {
   "cell_type": "markdown",
   "metadata": {},
   "source": [
    "(intermediate save)"
   ]
  },
  {
   "cell_type": "code",
   "execution_count": 15,
   "metadata": {
    "collapsed": true
   },
   "outputs": [],
   "source": [
    "rio.to_csv(\"2016_olympian_pageviews.csv\")"
   ]
  },
  {
   "cell_type": "markdown",
   "metadata": {},
   "source": [
    "These are the English article names. Now we will merge on all of the \"other\"-wiki names."
   ]
  },
  {
   "cell_type": "code",
   "execution_count": 19,
   "metadata": {
    "collapsed": false
   },
   "outputs": [
    {
     "name": "stderr",
     "output_type": "stream",
     "text": [
      "100%|██████████████████████████████████████| 9481/9481 [31:41<00:00,  5.09it/s]\n"
     ]
    }
   ],
   "source": [
    "from time import sleep\n",
    "from json import JSONDecodeError\n",
    "\n",
    "wiki_dict = dict()\n",
    "n = 0\n",
    "\n",
    "def wikify(id):\n",
    "    ret = dict()\n",
    "#     while True:\n",
    "#         try:\n",
    "    if id:\n",
    "        d = requests.get(\"https://www.wikidata.org/wiki/Special:EntityData/{0}.json\".format(id)).json()\n",
    "#             break\n",
    "#         except JSONDecodeError:\n",
    "#             print(\"Encountered an error! Trying again...\")\n",
    "#             sleep(1)\n",
    "#             continue\n",
    "        labels = d['entities'][id]['labels']\n",
    "        for lang in labels.keys():\n",
    "            value = labels[lang]['value']\n",
    "            if lang in wiki_dict.keys():\n",
    "                wiki_dict[lang].append(value)\n",
    "            else:\n",
    "                wiki_dict[lang] = [None]*n\n",
    "    for lang in wiki_dict.keys():\n",
    "        if len(wiki_dict[lang]) == n:\n",
    "            wiki_dict[lang].append(None)\n",
    "\n",
    "for id in tqdm(rio['identifier']):\n",
    "    wikify(id)\n",
    "    n += 1"
   ]
  },
  {
   "cell_type": "markdown",
   "metadata": {},
   "source": [
    "Now assign that data to our DataFrame."
   ]
  },
  {
   "cell_type": "code",
   "execution_count": 24,
   "metadata": {
    "collapsed": false
   },
   "outputs": [],
   "source": [
    "for lang in wiki_dict.keys():\n",
    "    rio[lang] = wiki_dict[lang]"
   ]
  },
  {
   "cell_type": "markdown",
   "metadata": {},
   "source": [
    "(intermediate save)"
   ]
  },
  {
   "cell_type": "code",
   "execution_count": 20,
   "metadata": {
    "collapsed": true
   },
   "outputs": [],
   "source": [
    "rio.to_csv(\"2016_olympian_pageviews.csv\")"
   ]
  },
  {
   "cell_type": "markdown",
   "metadata": {},
   "source": [
    "Now we can tie everything together by bringing in our pageview data."
   ]
  },
  {
   "cell_type": "code",
   "execution_count": 1,
   "metadata": {
    "collapsed": true
   },
   "outputs": [],
   "source": [
    "from mwviews.api import PageviewsClient"
   ]
  },
  {
   "cell_type": "code",
   "execution_count": null,
   "metadata": {
    "collapsed": true
   },
   "outputs": [],
   "source": [
    "p = PageviewsClient()\n",
    "p.article_views('en.wikipedia', ['Selfie', 'Cat', 'Dog'])\n",
    "p.project_views(['ro.wikipedia', 'de.wikipedia', 'commons.wikimedia'])\n",
    "p.top_articles('en.wikipedia', limit=10)\n",
    "\n",
    "# The client can do more than the API, for example monthly rollups for article views:\n",
    "# p.article_views('en.wikipedia', ['Selfie', 'Cat'], granularity='monthly', start='2016020100', end='2016043000')"
   ]
  },
  {
   "cell_type": "code",
   "execution_count": 6,
   "metadata": {
    "collapsed": false,
    "scrolled": true
   },
   "outputs": [
    {
     "data": {
      "text/plain": [
       "defaultdict(dict,\n",
       "            {datetime.datetime(2016, 7, 24, 0, 0): {'commons.wikimedia': 15532515,\n",
       "              'de.wikipedia': 35559142,\n",
       "              'ro.wikipedia': None},\n",
       "             datetime.datetime(2016, 7, 25, 0, 0): {'commons.wikimedia': 17790369,\n",
       "              'de.wikipedia': 36038054,\n",
       "              'ro.wikipedia': None},\n",
       "             datetime.datetime(2016, 7, 26, 0, 0): {'commons.wikimedia': 16217568,\n",
       "              'de.wikipedia': 37828679,\n",
       "              'ro.wikipedia': None},\n",
       "             datetime.datetime(2016, 7, 27, 0, 0): {'commons.wikimedia': 15852765,\n",
       "              'de.wikipedia': 36907168,\n",
       "              'ro.wikipedia': None},\n",
       "             datetime.datetime(2016, 7, 28, 0, 0): {'commons.wikimedia': 15912657,\n",
       "              'de.wikipedia': 34625468,\n",
       "              'ro.wikipedia': None},\n",
       "             datetime.datetime(2016, 7, 29, 0, 0): {'commons.wikimedia': 17037426,\n",
       "              'de.wikipedia': 35709470,\n",
       "              'ro.wikipedia': None},\n",
       "             datetime.datetime(2016, 7, 30, 0, 0): {'commons.wikimedia': 15177244,\n",
       "              'de.wikipedia': 31533793,\n",
       "              'ro.wikipedia': None},\n",
       "             datetime.datetime(2016, 7, 31, 0, 0): {'commons.wikimedia': 16247416,\n",
       "              'de.wikipedia': 34580051,\n",
       "              'ro.wikipedia': None},\n",
       "             datetime.datetime(2016, 8, 1, 0, 0): {'commons.wikimedia': 16133692,\n",
       "              'de.wikipedia': 35438141,\n",
       "              'ro.wikipedia': None},\n",
       "             datetime.datetime(2016, 8, 2, 0, 0): {'commons.wikimedia': 16084361,\n",
       "              'de.wikipedia': 36046397,\n",
       "              'ro.wikipedia': None},\n",
       "             datetime.datetime(2016, 8, 3, 0, 0): {'commons.wikimedia': 17642724,\n",
       "              'de.wikipedia': 35832249,\n",
       "              'ro.wikipedia': None},\n",
       "             datetime.datetime(2016, 8, 4, 0, 0): {'commons.wikimedia': 16050296,\n",
       "              'de.wikipedia': 34263322,\n",
       "              'ro.wikipedia': None},\n",
       "             datetime.datetime(2016, 8, 5, 0, 0): {'commons.wikimedia': 15281489,\n",
       "              'de.wikipedia': 35327781,\n",
       "              'ro.wikipedia': None},\n",
       "             datetime.datetime(2016, 8, 6, 0, 0): {'commons.wikimedia': 14490873,\n",
       "              'de.wikipedia': 32977357,\n",
       "              'ro.wikipedia': None},\n",
       "             datetime.datetime(2016, 8, 7, 0, 0): {'commons.wikimedia': 14056372,\n",
       "              'de.wikipedia': 31794413,\n",
       "              'ro.wikipedia': None},\n",
       "             datetime.datetime(2016, 8, 8, 0, 0): {'commons.wikimedia': 15511259,\n",
       "              'de.wikipedia': 35187948,\n",
       "              'ro.wikipedia': None},\n",
       "             datetime.datetime(2016, 8, 9, 0, 0): {'commons.wikimedia': 17132263,\n",
       "              'de.wikipedia': 36171609,\n",
       "              'ro.wikipedia': None},\n",
       "             datetime.datetime(2016, 8, 10, 0, 0): {'commons.wikimedia': 15466286,\n",
       "              'de.wikipedia': 36962576,\n",
       "              'ro.wikipedia': None},\n",
       "             datetime.datetime(2016, 8, 11, 0, 0): {'commons.wikimedia': 16863708,\n",
       "              'de.wikipedia': 35912667,\n",
       "              'ro.wikipedia': None},\n",
       "             datetime.datetime(2016, 8, 12, 0, 0): {'commons.wikimedia': 17087342,\n",
       "              'de.wikipedia': 37570713,\n",
       "              'ro.wikipedia': None},\n",
       "             datetime.datetime(2016, 8, 13, 0, 0): {'commons.wikimedia': 16350014,\n",
       "              'de.wikipedia': 34204788,\n",
       "              'ro.wikipedia': None},\n",
       "             datetime.datetime(2016, 8, 14, 0, 0): {'commons.wikimedia': 17320302,\n",
       "              'de.wikipedia': 35151382,\n",
       "              'ro.wikipedia': None},\n",
       "             datetime.datetime(2016, 8, 15, 0, 0): {'commons.wikimedia': 17995823,\n",
       "              'de.wikipedia': 36810684,\n",
       "              'ro.wikipedia': None},\n",
       "             datetime.datetime(2016, 8, 16, 0, 0): {'commons.wikimedia': 17317073,\n",
       "              'de.wikipedia': 36500742,\n",
       "              'ro.wikipedia': None},\n",
       "             datetime.datetime(2016, 8, 17, 0, 0): {'commons.wikimedia': 18425766,\n",
       "              'de.wikipedia': 35183509,\n",
       "              'ro.wikipedia': None},\n",
       "             datetime.datetime(2016, 8, 18, 0, 0): {'commons.wikimedia': 17524422,\n",
       "              'de.wikipedia': 35161497,\n",
       "              'ro.wikipedia': None},\n",
       "             datetime.datetime(2016, 8, 19, 0, 0): {'commons.wikimedia': 18192756,\n",
       "              'de.wikipedia': 35519770,\n",
       "              'ro.wikipedia': None},\n",
       "             datetime.datetime(2016, 8, 20, 0, 0): {'commons.wikimedia': 17956568,\n",
       "              'de.wikipedia': 36132339,\n",
       "              'ro.wikipedia': None},\n",
       "             datetime.datetime(2016, 8, 21, 0, 0): {'commons.wikimedia': 17727238,\n",
       "              'de.wikipedia': 36599062,\n",
       "              'ro.wikipedia': None},\n",
       "             datetime.datetime(2016, 8, 22, 0, 0): {'commons.wikimedia': 17818407,\n",
       "              'de.wikipedia': 36930663,\n",
       "              'ro.wikipedia': None},\n",
       "             datetime.datetime(2016, 8, 23, 0, 0): {'commons.wikimedia': None,\n",
       "              'de.wikipedia': None,\n",
       "              'ro.wikipedia': None}})"
      ]
     },
     "execution_count": 6,
     "metadata": {},
     "output_type": "execute_result"
    }
   ],
   "source": [
    "p = PageviewsClient()\n",
    "p.project_views(['ro.wikipedia', 'de.wikipedia', 'commons.wikimedia'])"
   ]
  },
  {
   "cell_type": "code",
   "execution_count": null,
   "metadata": {
    "collapsed": true
   },
   "outputs": [],
   "source": []
  }
 ],
 "metadata": {
  "kernelspec": {
   "display_name": "Python 3",
   "language": "python",
   "name": "python3"
  },
  "language_info": {
   "codemirror_mode": {
    "name": "ipython",
    "version": 3
   },
   "file_extension": ".py",
   "mimetype": "text/x-python",
   "name": "python",
   "nbconvert_exporter": "python",
   "pygments_lexer": "ipython3",
   "version": "3.5.2"
  }
 },
 "nbformat": 4,
 "nbformat_minor": 0
}
